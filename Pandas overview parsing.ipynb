{
 "cells": [
  {
   "cell_type": "code",
   "execution_count": 2,
   "metadata": {
    "collapsed": true
   },
   "outputs": [],
   "source": [
    "import pandas as p"
   ]
  },
  {
   "cell_type": "code",
   "execution_count": 17,
   "metadata": {
    "collapsed": false
   },
   "outputs": [
    {
     "name": "stdout",
     "output_type": "stream",
     "text": [
      "regulator_symbol\n",
      "regulator_id\n",
      "target_symbol\n",
      "target_id\n",
      "database\n",
      "evidence\n",
      "confidence\n"
     ]
    }
   ],
   "source": [
    "human_high = p.read_csv(\"/Users/admin/Documents/Mouse/Annotation_tables/human_high.csv\",header=0)\n",
    "human_medium = p.read_csv(\"/Users/admin/Documents/Mouse/Annotation_tables/human_medium.csv\",header=0)"
   ]
  },
  {
   "cell_type": "code",
   "execution_count": 15,
   "metadata": {
    "collapsed": false
   },
   "outputs": [
    {
     "data": {
      "text/plain": [
       "9726"
      ]
     },
     "execution_count": 15,
     "metadata": {},
     "output_type": "execute_result"
    }
   ],
   "source": [
    "def filter_network(networks,outfile):\n",
    "    banned_db = set([\"biogrid\",\"intact\",\"microT\",\"miRanda\",\"miRBase\",\"miRecords\",\n",
    "                 \"PicTar\",\"string\",\"miRTarBase\",\"TargetScan\",\"transmir\"])\n",
    "    out = open(outfile,\"w\")\n",
    "    for network in networks:\n",
    "        for i in network.index:\n",
    "            databases = set((network.loc[index,\"database\"]).split(\",\"))\n",
    "            if len(databases&banned_db) == 0:\n",
    "                print >> out, \"\\t\".join(list(network.loc[index]))\n",
    "    out.close()\n"
   ]
  },
  {
   "cell_type": "code",
   "execution_count": 18,
   "metadata": {
    "collapsed": false
   },
   "outputs": [
    {
     "data": {
      "text/plain": [
       "Int64Index([   0,    1,    2,    3,    4,    5,    6,    7,    8,    9, \n",
       "            ...\n",
       "            9716, 9717, 9718, 9719, 9720, 9721, 9722, 9723, 9724, 9725],\n",
       "           dtype='int64', length=9726)"
      ]
     },
     "execution_count": 18,
     "metadata": {},
     "output_type": "execute_result"
    }
   ],
   "source": [
    "filter_network([human_high,human_medium])"
   ]
  },
  {
   "cell_type": "code",
   "execution_count": 32,
   "metadata": {
    "collapsed": false
   },
   "outputs": [
    {
     "data": {
      "text/plain": [
       "['ABL1', 25, 'SHC3', '53358', 'kegg', 'Experimental', 'High']"
      ]
     },
     "execution_count": 32,
     "metadata": {},
     "output_type": "execute_result"
    }
   ],
   "source": [
    "list(human_high.loc[0])"
   ]
  },
  {
   "cell_type": "code",
   "execution_count": 24,
   "metadata": {
    "collapsed": false
   },
   "outputs": [
    {
     "data": {
      "text/plain": [
       "['holaadios']"
      ]
     },
     "execution_count": 24,
     "metadata": {},
     "output_type": "execute_result"
    }
   ],
   "source": [
    "\"holaadios\".split(\",\")"
   ]
  },
  {
   "cell_type": "code",
   "execution_count": 25,
   "metadata": {
    "collapsed": false
   },
   "outputs": [
    {
     "data": {
      "text/plain": [
       "2"
      ]
     },
     "execution_count": 25,
     "metadata": {},
     "output_type": "execute_result"
    }
   ],
   "source": [
    "a = set([1,2,3,4])\n",
    "b = set([2,3])\n",
    "len(a&b)"
   ]
  },
  {
   "cell_type": "code",
   "execution_count": null,
   "metadata": {
    "collapsed": true
   },
   "outputs": [],
   "source": []
  }
 ],
 "metadata": {
  "kernelspec": {
   "display_name": "Python 2",
   "language": "python",
   "name": "python2"
  },
  "language_info": {
   "codemirror_mode": {
    "name": "ipython",
    "version": 2
   },
   "file_extension": ".py",
   "mimetype": "text/x-python",
   "name": "python",
   "nbconvert_exporter": "python",
   "pygments_lexer": "ipython2",
   "version": "2.7.9"
  }
 },
 "nbformat": 4,
 "nbformat_minor": 0
}
